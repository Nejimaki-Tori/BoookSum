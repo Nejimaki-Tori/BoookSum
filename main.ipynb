{
 "cells": [
  {
   "cell_type": "code",
   "execution_count": null,
   "metadata": {
    "colab": {
     "base_uri": "https://localhost:8080/"
    },
    "id": "VRIBvsK3a--A",
    "outputId": "28fc983a-07b3-4adc-c340-f8f5a6b03299"
   },
   "outputs": [
    {
     "name": "stderr",
     "output_type": "stream",
     "text": [
      "Processing records: 100%|██████████| 496858/496858 [4:05:20<00:00, 33.75it/s, found=634]\n"
     ]
    }
   ],
   "source": [
    "import json\n",
    "from tqdm import tqdm\n",
    "from sentence_transformers import SentenceTransformer\n",
    "from datasets import load_dataset\n",
    "\n",
    "def similarity(a: str, b: str) -> float:\n",
    "    emb_1 = encoder.encode(a)\n",
    "    emb_2 = encoder.encode(b)\n",
    "\n",
    "    return round(float(encoder.similarity(emb_1, emb_2).item()), 3)\n",
    "\n",
    "dataset = load_dataset('IlyaGusev/librusec_full', split='train', streaming=True)\n",
    "\n",
    "with open('All_annotations.json', 'r', encoding='utf-8') as f:\n",
    "    all_a = json.load(f)\n",
    "\n",
    "with open('titles.json', 'r', encoding='utf-8') as f:\n",
    "    needed_titles = json.load(f)\n",
    "    \n",
    "annotations_dict = {}\n",
    "for a in all_a:\n",
    "    annotations_dict[a['title']] = a\n",
    "     \n",
    "SIM_TH = 0.65\n",
    "texts_dict = {}\n",
    "needed_titles = set(needed_titles)\n",
    "encoder = SentenceTransformer('deepvk/USER-bge-m3')\n",
    "\n",
    "with tqdm(total=496858, desc=\"Processing records\") as pbar:\n",
    "    for record in dataset:\n",
    "        title = record.get(\"title\", \"\")\n",
    "        authors = record.get(\"authors\", [\"\"])\n",
    "        lang = record.get(\"lang\", \"\")\n",
    "\n",
    "        if title in needed_titles:\n",
    "            if title not in texts_dict:\n",
    "                if lang in ['ru', 'rus']:\n",
    "                    if annotations_dict[title]['author'] in authors:\n",
    "                        texts_dict[title] = (record.get(\"sections\", \"\"), authors)\n",
    "                    else:\n",
    "                        for author in authors:\n",
    "                            if similarity(author, annotations_dict[title]['author']) > SIM_TH:\n",
    "                                texts_dict[title] = (record.get(\"sections\", \" \"), authors)\n",
    "                                break\n",
    "\n",
    "        pbar.set_postfix({\n",
    "            'found': len(texts_dict),\n",
    "        })\n",
    "        pbar.update(1)\n",
    "\n",
    "        if len(texts_dict) == len(needed_titles):\n",
    "            break\n",
    "            \n",
    "combined = []\n",
    "for title, value in texts_dict.items():\n",
    "  combined.append({'title': title, 'author': annotations_dict[title]['author'], 'authors': value[1], 'annotation': annotations_dict[title]['annotation'],'text': value[0], 'categories': annotations_dict[title]['categories']})"
   ]
  },
  {
   "cell_type": "code",
   "execution_count": 1,
   "metadata": {
    "scrolled": true
   },
   "outputs": [
    {
     "name": "stderr",
     "output_type": "stream",
     "text": [
      "C:\\Users\\dagri\\BOOOKSum\\utils.py:4: UserWarning: A NumPy version >=1.23.5 and <2.3.0 is required for this version of SciPy (detected version 2.3.1)\n",
      "  from scipy.special import softmax\n",
      "[nltk_data] Downloading package punkt to\n",
      "[nltk_data]     C:\\Users\\dagri\\AppData\\Roaming\\nltk_data...\n",
      "[nltk_data]   Package punkt is already up-to-date!\n",
      "[nltk_data] Downloading package punkt_tab to\n",
      "[nltk_data]     C:\\Users\\dagri\\AppData\\Roaming\\nltk_data...\n",
      "[nltk_data]   Package punkt_tab is already up-to-date!\n",
      "C:\\Users\\dagri\\anaconda3\\envs\\WIKIbench\\Lib\\site-packages\\ignite\\handlers\\checkpoint.py:16: DeprecationWarning: `TorchScript` support for functional optimizers is deprecated and will be removed in a future PyTorch release. Consider using the `torch.compile` optimizer instead.\n",
      "  from torch.distributed.optim import ZeroRedundancyOptimizer\n"
     ]
    }
   ],
   "source": [
    "import sys\n",
    "sys.path.append('methods')\n",
    "\n",
    "from methods import Summarisation"
   ]
  },
  {
   "cell_type": "code",
   "execution_count": 2,
   "metadata": {},
   "outputs": [],
   "source": [
    "with open('Access_key.txt', 'r', encoding='utf-8') as file:\n",
    "    url, key = file.read().split()"
   ]
  },
  {
   "cell_type": "code",
   "execution_count": 3,
   "metadata": {},
   "outputs": [],
   "source": [
    "bench = Summarisation(URL=url, KEY=key, model_name='RefalMachine/RuadaptQwen2.5-7B-Lite-Beta') "
   ]
  },
  {
   "cell_type": "code",
   "execution_count": 7,
   "metadata": {},
   "outputs": [
    {
     "name": "stdout",
     "output_type": "stream",
     "text": [
      "870892\n",
      "109\n"
     ]
    }
   ],
   "source": [
    "from utils import chunk_text\n",
    "text = \"\\n\".join(bench.collection[3]['text'])\n",
    "chunks = chunk_text(text)\n",
    "print(len(text))\n",
    "print(len(chunks))"
   ]
  },
  {
   "cell_type": "code",
   "execution_count": 4,
   "metadata": {},
   "outputs": [
    {
     "name": "stdout",
     "output_type": "stream",
     "text": [
      "60664\n",
      "8\n"
     ]
    }
   ],
   "source": [
    "from utils import chunk_text\n",
    "text = bench.collection[0]['text'][0]\n",
    "chunks = chunk_text(text)\n",
    "print(len(text))\n",
    "print(len(chunks))"
   ]
  },
  {
   "cell_type": "code",
   "execution_count": 5,
   "metadata": {
    "scrolled": true
   },
   "outputs": [],
   "source": [
    "s = await bench.blueprint.run(chunks, initial_word_limit=500)"
   ]
  },
  {
   "cell_type": "code",
   "execution_count": 6,
   "metadata": {
    "scrolled": true
   },
   "outputs": [
    {
     "name": "stdout",
     "output_type": "stream",
     "text": [
      "### Краткое содержание\n",
      "\n",
      "**1. Эволюция отношений Мейзи:**\n",
      "- Мейзи начинает с недоверия к миссис Уэст, но постепенно испытывает к ней глубокую благодарность, в отличие от враждебного отношения к Бесси, что отражает контраст между поддержкой и мистической угрозой.\n",
      "\n",
      "**2. История и защита башни Волвердена:**\n",
      "- Башня символизирует возрождение и амбициозные реставрационные работы, встречая сопротивление у Бесси, хранящей память о разрушении, в то время как миссис Уэст скрывает масштабы, опасаясь суеверий.\n",
      "\n",
      "**3. Необычные элементы Волвердена:**\n",
      "- Мейзи восхищается готической криптой с древними символами, Сфинксом и мистическими образами, что пробуждает её интерес к мистическим аспектам и укреплению веры в миссию.\n",
      "\n",
      "**4. Роль старухи Бесси:**\n",
      "- Бесси, хранительница мистических знаний, выступает как защитникница священного прошлого, проклиная реставрацию, что усиливает атмосферу тайны и предчувствий, влияя на восприятие Мейзи.\n",
      "\n",
      "**5. Путешествие и трансформация Мейзи:**\n",
      "- Путешествие через крипту и участие в постановках \"Живых картин\" (особенно \"Принесения Ифигении в жертву\") знаменуют духовное взросление Мейзи, погружая её в мистические испытания и моральные дилеммы, укрепляя веру в предназначение.\n",
      "\n",
      "**6. Эмоциональное состояние и \"Живые картины\":**\n",
      "- Мейзи испытывает широкий спектр эмоций — от страха и волнения в ночных сценах с огнем и луной до решимости и вдохновения, отражая внутренний конфликт и предчувствие важных событий.\n",
      "\n",
      "**7. Влияние подруг и крипты:**\n",
      "- Дружба с Иолантой и Геддой, особенно в крипте, укрепляет Мейзи, подчеркивая поддержку и духовное единство, помогая преодолеть испытания через совместные миссии и мистические связи.\n",
      "\n",
      "**8. Ключевые символы и события:**\n",
      "- Символы огня, луны и ритуалов усиливают пророческую атмосферу, предвещая поворотные моменты, связывая личные переживания с историческими и мистическими корнями, укрепляя миссию Мейзи.\n",
      "\n",
      "**9. Взаимодействие и изменения персонажей:**\n",
      "- Перемены в восприятии и действиях Мейзи, особенно после встречи с Бесси и погружения в крипту, отражают переход от невинности к осознанию глубоких мистических и исторических связей, влияющих на её миссию.\n",
      "\n",
      "**10. Атмосфера и ключевые ночные сцены:**\n",
      "- Ночные сцены с магическим взаимодействием, лунным светом и огнем усиливают мистическую напряженность, подчеркивая связь с древними ритуалами и призванием силы, символизируя защиту и цикличность времени.\n",
      "\n",
      "### Заключение:\n",
      "История Мейзи в Волвердене — это путь от скептицизма к посвящению, наполненный мистическими открытиями, символикой и личными испытаниями, формируя её как ключевую хранительницу древнего наследия, способную противостоять темным силам и защищать священное прошлое.\n"
     ]
    }
   ],
   "source": [
    "print(s)"
   ]
  },
  {
   "cell_type": "code",
   "execution_count": null,
   "metadata": {},
   "outputs": [],
   "source": [
    "await bench.evaluate_annotation(bench.collection[0]['text'][0], s)"
   ]
  },
  {
   "cell_type": "code",
   "execution_count": 8,
   "metadata": {},
   "outputs": [
    {
     "name": "stdout",
     "output_type": "stream",
     "text": [
      "Hierarchical\n",
      "Time: 166.78\n"
     ]
    }
   ],
   "source": [
    "import time\n",
    "print('Hierarchical')\n",
    "for _ in range(3):\n",
    "    start = time.perf_counter()\n",
    "    s = await bench.hierarchical.run(chunks, initial_word_limit=500, filtered=True)\n",
    "    end = time.perf_counter()\n",
    "    count = end - start\n",
    "    print(f\"Time: {count:.2f}\")\n",
    "    break"
   ]
  },
  {
   "cell_type": "code",
   "execution_count": 9,
   "metadata": {},
   "outputs": [
    {
     "name": "stdout",
     "output_type": "stream",
     "text": [
      "Blueprint\n",
      "Time: 533.10\n",
      "Time: 522.88\n",
      "Time: 537.34\n"
     ]
    }
   ],
   "source": [
    "import time\n",
    "print('Blueprint')\n",
    "for _ in range(3):\n",
    "    start = time.perf_counter()\n",
    "    s = await bench.blueprint.run(chunks, initial_word_limit=500)\n",
    "    end = time.perf_counter()\n",
    "    count = end - start\n",
    "    print(f\"Time: {count:.2f}\")"
   ]
  },
  {
   "cell_type": "code",
   "execution_count": null,
   "metadata": {},
   "outputs": [],
   "source": []
  }
 ],
 "metadata": {
  "colab": {
   "provenance": []
  },
  "kernelspec": {
   "display_name": "Python 3 (ipykernel)",
   "language": "python",
   "name": "python3"
  },
  "language_info": {
   "codemirror_mode": {
    "name": "ipython",
    "version": 3
   },
   "file_extension": ".py",
   "mimetype": "text/x-python",
   "name": "python",
   "nbconvert_exporter": "python",
   "pygments_lexer": "ipython3",
   "version": "3.12.9"
  },
  "widgets": {
   "application/vnd.jupyter.widget-state+json": {
    "0c7064d98a6e46b480c3ade68cc8a3c9": {
     "model_module": "@jupyter-widgets/controls",
     "model_module_version": "1.5.0",
     "model_name": "FloatProgressModel",
     "state": {
      "_dom_classes": [],
      "_model_module": "@jupyter-widgets/controls",
      "_model_module_version": "1.5.0",
      "_model_name": "FloatProgressModel",
      "_view_count": null,
      "_view_module": "@jupyter-widgets/controls",
      "_view_module_version": "1.5.0",
      "_view_name": "ProgressView",
      "bar_style": "success",
      "description": "",
      "description_tooltip": null,
      "layout": "IPY_MODEL_d248f79c4cf743e99d35f1af67b15ac7",
      "max": 4836,
      "min": 0,
      "orientation": "horizontal",
      "style": "IPY_MODEL_757c85b80ca843f08e854ce85650e583",
      "value": 4836
     }
    },
    "16ec219f49aa4847ac8ad49359822eee": {
     "model_module": "@jupyter-widgets/controls",
     "model_module_version": "1.5.0",
     "model_name": "HTMLModel",
     "state": {
      "_dom_classes": [],
      "_model_module": "@jupyter-widgets/controls",
      "_model_module_version": "1.5.0",
      "_model_name": "HTMLModel",
      "_view_count": null,
      "_view_module": "@jupyter-widgets/controls",
      "_view_module_version": "1.5.0",
      "_view_name": "HTMLView",
      "description": "",
      "description_tooltip": null,
      "layout": "IPY_MODEL_b2026744200244e6aa47a44446ec8a85",
      "placeholder": "​",
      "style": "IPY_MODEL_d36eec2920c3417ba4c8615e2290f49c",
      "value": "README.md: 100%"
     }
    },
    "3e7f31fa3ca247a18b1e3818f6288ae4": {
     "model_module": "@jupyter-widgets/controls",
     "model_module_version": "1.5.0",
     "model_name": "ProgressStyleModel",
     "state": {
      "_model_module": "@jupyter-widgets/controls",
      "_model_module_version": "1.5.0",
      "_model_name": "ProgressStyleModel",
      "_view_count": null,
      "_view_module": "@jupyter-widgets/base",
      "_view_module_version": "1.2.0",
      "_view_name": "StyleView",
      "bar_color": null,
      "description_width": ""
     }
    },
    "5760f673228a4cf7903d74074a838cc1": {
     "model_module": "@jupyter-widgets/base",
     "model_module_version": "1.2.0",
     "model_name": "LayoutModel",
     "state": {
      "_model_module": "@jupyter-widgets/base",
      "_model_module_version": "1.2.0",
      "_model_name": "LayoutModel",
      "_view_count": null,
      "_view_module": "@jupyter-widgets/base",
      "_view_module_version": "1.2.0",
      "_view_name": "LayoutView",
      "align_content": null,
      "align_items": null,
      "align_self": null,
      "border": null,
      "bottom": null,
      "display": null,
      "flex": null,
      "flex_flow": null,
      "grid_area": null,
      "grid_auto_columns": null,
      "grid_auto_flow": null,
      "grid_auto_rows": null,
      "grid_column": null,
      "grid_gap": null,
      "grid_row": null,
      "grid_template_areas": null,
      "grid_template_columns": null,
      "grid_template_rows": null,
      "height": null,
      "justify_content": null,
      "justify_items": null,
      "left": null,
      "margin": null,
      "max_height": null,
      "max_width": null,
      "min_height": null,
      "min_width": null,
      "object_fit": null,
      "object_position": null,
      "order": null,
      "overflow": null,
      "overflow_x": null,
      "overflow_y": null,
      "padding": null,
      "right": null,
      "top": null,
      "visibility": null,
      "width": null
     }
    },
    "5a7899e5f28c463fa27099a5ea98218d": {
     "model_module": "@jupyter-widgets/base",
     "model_module_version": "1.2.0",
     "model_name": "LayoutModel",
     "state": {
      "_model_module": "@jupyter-widgets/base",
      "_model_module_version": "1.2.0",
      "_model_name": "LayoutModel",
      "_view_count": null,
      "_view_module": "@jupyter-widgets/base",
      "_view_module_version": "1.2.0",
      "_view_name": "LayoutView",
      "align_content": null,
      "align_items": null,
      "align_self": null,
      "border": null,
      "bottom": null,
      "display": null,
      "flex": null,
      "flex_flow": null,
      "grid_area": null,
      "grid_auto_columns": null,
      "grid_auto_flow": null,
      "grid_auto_rows": null,
      "grid_column": null,
      "grid_gap": null,
      "grid_row": null,
      "grid_template_areas": null,
      "grid_template_columns": null,
      "grid_template_rows": null,
      "height": null,
      "justify_content": null,
      "justify_items": null,
      "left": null,
      "margin": null,
      "max_height": null,
      "max_width": null,
      "min_height": null,
      "min_width": null,
      "object_fit": null,
      "object_position": null,
      "order": null,
      "overflow": null,
      "overflow_x": null,
      "overflow_y": null,
      "padding": null,
      "right": null,
      "top": null,
      "visibility": null,
      "width": null
     }
    },
    "6c47b56edffc4c418ff8ea904697a592": {
     "model_module": "@jupyter-widgets/controls",
     "model_module_version": "1.5.0",
     "model_name": "DescriptionStyleModel",
     "state": {
      "_model_module": "@jupyter-widgets/controls",
      "_model_module_version": "1.5.0",
      "_model_name": "DescriptionStyleModel",
      "_view_count": null,
      "_view_module": "@jupyter-widgets/base",
      "_view_module_version": "1.2.0",
      "_view_name": "StyleView",
      "description_width": ""
     }
    },
    "757c85b80ca843f08e854ce85650e583": {
     "model_module": "@jupyter-widgets/controls",
     "model_module_version": "1.5.0",
     "model_name": "ProgressStyleModel",
     "state": {
      "_model_module": "@jupyter-widgets/controls",
      "_model_module_version": "1.5.0",
      "_model_name": "ProgressStyleModel",
      "_view_count": null,
      "_view_module": "@jupyter-widgets/base",
      "_view_module_version": "1.2.0",
      "_view_name": "StyleView",
      "bar_color": null,
      "description_width": ""
     }
    },
    "88c42a190e6946bd8637a43798ba8c35": {
     "model_module": "@jupyter-widgets/controls",
     "model_module_version": "1.5.0",
     "model_name": "DescriptionStyleModel",
     "state": {
      "_model_module": "@jupyter-widgets/controls",
      "_model_module_version": "1.5.0",
      "_model_name": "DescriptionStyleModel",
      "_view_count": null,
      "_view_module": "@jupyter-widgets/base",
      "_view_module_version": "1.2.0",
      "_view_name": "StyleView",
      "description_width": ""
     }
    },
    "9e7fb2300a7d44ab84b791feeeb191fa": {
     "model_module": "@jupyter-widgets/base",
     "model_module_version": "1.2.0",
     "model_name": "LayoutModel",
     "state": {
      "_model_module": "@jupyter-widgets/base",
      "_model_module_version": "1.2.0",
      "_model_name": "LayoutModel",
      "_view_count": null,
      "_view_module": "@jupyter-widgets/base",
      "_view_module_version": "1.2.0",
      "_view_name": "LayoutView",
      "align_content": null,
      "align_items": null,
      "align_self": null,
      "border": null,
      "bottom": null,
      "display": null,
      "flex": null,
      "flex_flow": null,
      "grid_area": null,
      "grid_auto_columns": null,
      "grid_auto_flow": null,
      "grid_auto_rows": null,
      "grid_column": null,
      "grid_gap": null,
      "grid_row": null,
      "grid_template_areas": null,
      "grid_template_columns": null,
      "grid_template_rows": null,
      "height": null,
      "justify_content": null,
      "justify_items": null,
      "left": null,
      "margin": null,
      "max_height": null,
      "max_width": null,
      "min_height": null,
      "min_width": null,
      "object_fit": null,
      "object_position": null,
      "order": null,
      "overflow": null,
      "overflow_x": null,
      "overflow_y": null,
      "padding": null,
      "right": null,
      "top": null,
      "visibility": null,
      "width": null
     }
    },
    "a0af4fa6d2f04455af7e7d91cd698a86": {
     "model_module": "@jupyter-widgets/controls",
     "model_module_version": "1.5.0",
     "model_name": "DescriptionStyleModel",
     "state": {
      "_model_module": "@jupyter-widgets/controls",
      "_model_module_version": "1.5.0",
      "_model_name": "DescriptionStyleModel",
      "_view_count": null,
      "_view_module": "@jupyter-widgets/base",
      "_view_module_version": "1.2.0",
      "_view_name": "StyleView",
      "description_width": ""
     }
    },
    "a728f73524524bb5942b2cea78eb2345": {
     "model_module": "@jupyter-widgets/controls",
     "model_module_version": "1.5.0",
     "model_name": "HTMLModel",
     "state": {
      "_dom_classes": [],
      "_model_module": "@jupyter-widgets/controls",
      "_model_module_version": "1.5.0",
      "_model_name": "HTMLModel",
      "_view_count": null,
      "_view_module": "@jupyter-widgets/controls",
      "_view_module_version": "1.5.0",
      "_view_name": "HTMLView",
      "description": "",
      "description_tooltip": null,
      "layout": "IPY_MODEL_5a7899e5f28c463fa27099a5ea98218d",
      "placeholder": "​",
      "style": "IPY_MODEL_a0af4fa6d2f04455af7e7d91cd698a86",
      "value": " 1.83k/1.83k [00:00&lt;00:00, 29.5kB/s]"
     }
    },
    "a7857ee187e948d0850a28dd6c7f2242": {
     "model_module": "@jupyter-widgets/controls",
     "model_module_version": "1.5.0",
     "model_name": "HTMLModel",
     "state": {
      "_dom_classes": [],
      "_model_module": "@jupyter-widgets/controls",
      "_model_module_version": "1.5.0",
      "_model_name": "HTMLModel",
      "_view_count": null,
      "_view_module": "@jupyter-widgets/controls",
      "_view_module_version": "1.5.0",
      "_view_name": "HTMLView",
      "description": "",
      "description_tooltip": null,
      "layout": "IPY_MODEL_f22555acc90f463b98f5d47e0a70ba5e",
      "placeholder": "​",
      "style": "IPY_MODEL_88c42a190e6946bd8637a43798ba8c35",
      "value": "librusec_full.py: 100%"
     }
    },
    "a8d4d2c9b0e740fa8e553d587db6592f": {
     "model_module": "@jupyter-widgets/base",
     "model_module_version": "1.2.0",
     "model_name": "LayoutModel",
     "state": {
      "_model_module": "@jupyter-widgets/base",
      "_model_module_version": "1.2.0",
      "_model_name": "LayoutModel",
      "_view_count": null,
      "_view_module": "@jupyter-widgets/base",
      "_view_module_version": "1.2.0",
      "_view_name": "LayoutView",
      "align_content": null,
      "align_items": null,
      "align_self": null,
      "border": null,
      "bottom": null,
      "display": null,
      "flex": null,
      "flex_flow": null,
      "grid_area": null,
      "grid_auto_columns": null,
      "grid_auto_flow": null,
      "grid_auto_rows": null,
      "grid_column": null,
      "grid_gap": null,
      "grid_row": null,
      "grid_template_areas": null,
      "grid_template_columns": null,
      "grid_template_rows": null,
      "height": null,
      "justify_content": null,
      "justify_items": null,
      "left": null,
      "margin": null,
      "max_height": null,
      "max_width": null,
      "min_height": null,
      "min_width": null,
      "object_fit": null,
      "object_position": null,
      "order": null,
      "overflow": null,
      "overflow_x": null,
      "overflow_y": null,
      "padding": null,
      "right": null,
      "top": null,
      "visibility": null,
      "width": null
     }
    },
    "ae46aa6d346b4fb0adc717855cc84275": {
     "model_module": "@jupyter-widgets/base",
     "model_module_version": "1.2.0",
     "model_name": "LayoutModel",
     "state": {
      "_model_module": "@jupyter-widgets/base",
      "_model_module_version": "1.2.0",
      "_model_name": "LayoutModel",
      "_view_count": null,
      "_view_module": "@jupyter-widgets/base",
      "_view_module_version": "1.2.0",
      "_view_name": "LayoutView",
      "align_content": null,
      "align_items": null,
      "align_self": null,
      "border": null,
      "bottom": null,
      "display": null,
      "flex": null,
      "flex_flow": null,
      "grid_area": null,
      "grid_auto_columns": null,
      "grid_auto_flow": null,
      "grid_auto_rows": null,
      "grid_column": null,
      "grid_gap": null,
      "grid_row": null,
      "grid_template_areas": null,
      "grid_template_columns": null,
      "grid_template_rows": null,
      "height": null,
      "justify_content": null,
      "justify_items": null,
      "left": null,
      "margin": null,
      "max_height": null,
      "max_width": null,
      "min_height": null,
      "min_width": null,
      "object_fit": null,
      "object_position": null,
      "order": null,
      "overflow": null,
      "overflow_x": null,
      "overflow_y": null,
      "padding": null,
      "right": null,
      "top": null,
      "visibility": null,
      "width": null
     }
    },
    "b2026744200244e6aa47a44446ec8a85": {
     "model_module": "@jupyter-widgets/base",
     "model_module_version": "1.2.0",
     "model_name": "LayoutModel",
     "state": {
      "_model_module": "@jupyter-widgets/base",
      "_model_module_version": "1.2.0",
      "_model_name": "LayoutModel",
      "_view_count": null,
      "_view_module": "@jupyter-widgets/base",
      "_view_module_version": "1.2.0",
      "_view_name": "LayoutView",
      "align_content": null,
      "align_items": null,
      "align_self": null,
      "border": null,
      "bottom": null,
      "display": null,
      "flex": null,
      "flex_flow": null,
      "grid_area": null,
      "grid_auto_columns": null,
      "grid_auto_flow": null,
      "grid_auto_rows": null,
      "grid_column": null,
      "grid_gap": null,
      "grid_row": null,
      "grid_template_areas": null,
      "grid_template_columns": null,
      "grid_template_rows": null,
      "height": null,
      "justify_content": null,
      "justify_items": null,
      "left": null,
      "margin": null,
      "max_height": null,
      "max_width": null,
      "min_height": null,
      "min_width": null,
      "object_fit": null,
      "object_position": null,
      "order": null,
      "overflow": null,
      "overflow_x": null,
      "overflow_y": null,
      "padding": null,
      "right": null,
      "top": null,
      "visibility": null,
      "width": null
     }
    },
    "b3f7a153059c461fa83eb81290af2ab4": {
     "model_module": "@jupyter-widgets/controls",
     "model_module_version": "1.5.0",
     "model_name": "HBoxModel",
     "state": {
      "_dom_classes": [],
      "_model_module": "@jupyter-widgets/controls",
      "_model_module_version": "1.5.0",
      "_model_name": "HBoxModel",
      "_view_count": null,
      "_view_module": "@jupyter-widgets/controls",
      "_view_module_version": "1.5.0",
      "_view_name": "HBoxView",
      "box_style": "",
      "children": [
       "IPY_MODEL_a7857ee187e948d0850a28dd6c7f2242",
       "IPY_MODEL_0c7064d98a6e46b480c3ade68cc8a3c9",
       "IPY_MODEL_c2b6c403021948598fa7162df4937003"
      ],
      "layout": "IPY_MODEL_9e7fb2300a7d44ab84b791feeeb191fa"
     }
    },
    "c2b6c403021948598fa7162df4937003": {
     "model_module": "@jupyter-widgets/controls",
     "model_module_version": "1.5.0",
     "model_name": "HTMLModel",
     "state": {
      "_dom_classes": [],
      "_model_module": "@jupyter-widgets/controls",
      "_model_module_version": "1.5.0",
      "_model_name": "HTMLModel",
      "_view_count": null,
      "_view_module": "@jupyter-widgets/controls",
      "_view_module_version": "1.5.0",
      "_view_name": "HTMLView",
      "description": "",
      "description_tooltip": null,
      "layout": "IPY_MODEL_5760f673228a4cf7903d74074a838cc1",
      "placeholder": "​",
      "style": "IPY_MODEL_6c47b56edffc4c418ff8ea904697a592",
      "value": " 4.84k/4.84k [00:00&lt;00:00, 76.0kB/s]"
     }
    },
    "d248f79c4cf743e99d35f1af67b15ac7": {
     "model_module": "@jupyter-widgets/base",
     "model_module_version": "1.2.0",
     "model_name": "LayoutModel",
     "state": {
      "_model_module": "@jupyter-widgets/base",
      "_model_module_version": "1.2.0",
      "_model_name": "LayoutModel",
      "_view_count": null,
      "_view_module": "@jupyter-widgets/base",
      "_view_module_version": "1.2.0",
      "_view_name": "LayoutView",
      "align_content": null,
      "align_items": null,
      "align_self": null,
      "border": null,
      "bottom": null,
      "display": null,
      "flex": null,
      "flex_flow": null,
      "grid_area": null,
      "grid_auto_columns": null,
      "grid_auto_flow": null,
      "grid_auto_rows": null,
      "grid_column": null,
      "grid_gap": null,
      "grid_row": null,
      "grid_template_areas": null,
      "grid_template_columns": null,
      "grid_template_rows": null,
      "height": null,
      "justify_content": null,
      "justify_items": null,
      "left": null,
      "margin": null,
      "max_height": null,
      "max_width": null,
      "min_height": null,
      "min_width": null,
      "object_fit": null,
      "object_position": null,
      "order": null,
      "overflow": null,
      "overflow_x": null,
      "overflow_y": null,
      "padding": null,
      "right": null,
      "top": null,
      "visibility": null,
      "width": null
     }
    },
    "d36eec2920c3417ba4c8615e2290f49c": {
     "model_module": "@jupyter-widgets/controls",
     "model_module_version": "1.5.0",
     "model_name": "DescriptionStyleModel",
     "state": {
      "_model_module": "@jupyter-widgets/controls",
      "_model_module_version": "1.5.0",
      "_model_name": "DescriptionStyleModel",
      "_view_count": null,
      "_view_module": "@jupyter-widgets/base",
      "_view_module_version": "1.2.0",
      "_view_name": "StyleView",
      "description_width": ""
     }
    },
    "e712b923e6614115b54c6b4d36311854": {
     "model_module": "@jupyter-widgets/controls",
     "model_module_version": "1.5.0",
     "model_name": "HBoxModel",
     "state": {
      "_dom_classes": [],
      "_model_module": "@jupyter-widgets/controls",
      "_model_module_version": "1.5.0",
      "_model_name": "HBoxModel",
      "_view_count": null,
      "_view_module": "@jupyter-widgets/controls",
      "_view_module_version": "1.5.0",
      "_view_name": "HBoxView",
      "box_style": "",
      "children": [
       "IPY_MODEL_16ec219f49aa4847ac8ad49359822eee",
       "IPY_MODEL_e9cb9d5b314642d7b4a8260978e8d57f",
       "IPY_MODEL_a728f73524524bb5942b2cea78eb2345"
      ],
      "layout": "IPY_MODEL_a8d4d2c9b0e740fa8e553d587db6592f"
     }
    },
    "e9cb9d5b314642d7b4a8260978e8d57f": {
     "model_module": "@jupyter-widgets/controls",
     "model_module_version": "1.5.0",
     "model_name": "FloatProgressModel",
     "state": {
      "_dom_classes": [],
      "_model_module": "@jupyter-widgets/controls",
      "_model_module_version": "1.5.0",
      "_model_name": "FloatProgressModel",
      "_view_count": null,
      "_view_module": "@jupyter-widgets/controls",
      "_view_module_version": "1.5.0",
      "_view_name": "ProgressView",
      "bar_style": "success",
      "description": "",
      "description_tooltip": null,
      "layout": "IPY_MODEL_ae46aa6d346b4fb0adc717855cc84275",
      "max": 1835,
      "min": 0,
      "orientation": "horizontal",
      "style": "IPY_MODEL_3e7f31fa3ca247a18b1e3818f6288ae4",
      "value": 1835
     }
    },
    "f22555acc90f463b98f5d47e0a70ba5e": {
     "model_module": "@jupyter-widgets/base",
     "model_module_version": "1.2.0",
     "model_name": "LayoutModel",
     "state": {
      "_model_module": "@jupyter-widgets/base",
      "_model_module_version": "1.2.0",
      "_model_name": "LayoutModel",
      "_view_count": null,
      "_view_module": "@jupyter-widgets/base",
      "_view_module_version": "1.2.0",
      "_view_name": "LayoutView",
      "align_content": null,
      "align_items": null,
      "align_self": null,
      "border": null,
      "bottom": null,
      "display": null,
      "flex": null,
      "flex_flow": null,
      "grid_area": null,
      "grid_auto_columns": null,
      "grid_auto_flow": null,
      "grid_auto_rows": null,
      "grid_column": null,
      "grid_gap": null,
      "grid_row": null,
      "grid_template_areas": null,
      "grid_template_columns": null,
      "grid_template_rows": null,
      "height": null,
      "justify_content": null,
      "justify_items": null,
      "left": null,
      "margin": null,
      "max_height": null,
      "max_width": null,
      "min_height": null,
      "min_width": null,
      "object_fit": null,
      "object_position": null,
      "order": null,
      "overflow": null,
      "overflow_x": null,
      "overflow_y": null,
      "padding": null,
      "right": null,
      "top": null,
      "visibility": null,
      "width": null
     }
    }
   }
  }
 },
 "nbformat": 4,
 "nbformat_minor": 4
}
